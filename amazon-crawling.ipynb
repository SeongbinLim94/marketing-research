{
 "cells": [
  {
   "cell_type": "code",
   "execution_count": 2,
   "metadata": {},
   "outputs": [],
   "source": [
    "import requests\n",
    "from bs4 import BeautifulSoup\n",
    "from selenium import webdriver\n",
    "from selenium.webdriver.chrome.options import Options\n",
    "import math\n",
    "import time\n",
    "import pandas as pd\n",
    "import numpy as np"
   ]
  },
  {
   "cell_type": "code",
   "execution_count": 3,
   "metadata": {},
   "outputs": [],
   "source": [
    "url_data = pd.read_csv(\"review_data.csv\")"
   ]
  },
  {
   "cell_type": "code",
   "execution_count": 4,
   "metadata": {},
   "outputs": [],
   "source": [
    "def collect_data(amazon_url, cr_url):\n",
    "    comments = []\n",
    "    date = []\n",
    "    helpful = []\n",
    "    ratings = []\n",
    "    \n",
    "    options = Options()\n",
    "    options.add_argument('--kiosk')\n",
    "    browser = webdriver.Chrome('chromedriver.exe', chrome_options=options)\n",
    "    browser.get(amazon_url)\n",
    "    \n",
    "    num_reviews = browser.find_element_by_xpath(\"/html/body/div[1]/div[3]/div/div[1]/div/div[1]/div[4]/div/span\").text\n",
    "    num_reviews = int(num_reviews.split()[-3].replace(\",\", \"\"))\n",
    "    num_pages = math.ceil(num_reviews/10)\n",
    "    \n",
    "    for i in range(1, num_pages):\n",
    "        browser.get(amazon_url + \"&pageNumber={}\".format(i))\n",
    "        time.sleep(2)\n",
    "        for j in range(1, 12):\n",
    "            try:\n",
    "                text_1 = browser.find_element_by_xpath(\"/html/body/div[1]/div[3]/div/div[1]/div/div[1]/div[5]/div[3]/div/div[{}]/div/div/div[4]/span/span\".format(j)).text\n",
    "                text_2 = browser.find_element_by_xpath(\"/html/body/div[1]/div[3]/div/div[1]/div/div[1]/div[5]/div[3]/div/div[{}]/div/div/span\".format(j)).text\n",
    "                try:\n",
    "                    text_3 = browser.find_element_by_xpath(\"/html/body/div[1]/div[3]/div/div[1]/div/div[1]/div[5]/div[3]/div/div[{}]/div/div/div[7]/div/span[1]/div[1]/span\".format(j)).text\n",
    "                except:\n",
    "                    text_3 = browser.find_element_by_xpath(\"/html/body/div[1]/div[3]/div/div[1]/div/div[1]/div[5]/div[3]/div/div[{}]/div/div/div[5]/div/span[1]/div[1]/span\".format(j)).text\n",
    "                text_4 = browser.find_element_by_xpath(\"/html/body/div[1]/div[3]/div/div[1]/div/div[1]/div[5]/div[3]/div/div[{}]/div/div/div[2]/a[1]/i/span\".format(j)).get_attribute('innerHTML')\n",
    "                comments.append(text_1)\n",
    "                date.append(text_2)\n",
    "                helpful.append(text_3)\n",
    "                ratings.append(text_4)\n",
    "                \n",
    "            except:\n",
    "                continue\n",
    "            \n",
    "    browser.get(amazon_url + \"&pageNumber={}\".format(num_pages))\n",
    "    for num in range(1, num_reviews-(num_pages-1)*10 + 1):\n",
    "        try:\n",
    "            text_1 = browser.find_element_by_xpath(\"/html/body/div[1]/div[3]/div/div[1]/div/div[1]/div[5]/div[3]/div/div[{}]/div/div/div[4]/span/span\".format(num)).text\n",
    "            text_2 = browser.find_element_by_xpath(\"/html/body/div[1]/div[3]/div/div[1]/div/div[1]/div[5]/div[3]/div/div[{}]/div/div/span\".format(num)).text\n",
    "            try:\n",
    "                text_3 = browser.find_element_by_xpath(\"/html/body/div[1]/div[3]/div/div[1]/div/div[1]/div[5]/div[3]/div/div[{}]/div/div/div[7]/div/span[1]/div[1]/span\".format(num)).text\n",
    "            except:\n",
    "                text_3 = browser.find_element_by_xpath(\"/html/body/div[1]/div[3]/div/div[1]/div/div[1]/div[5]/div[3]/div/div[{}]/div/div/div[5]/div/span[1]/div[1]/span\".format(num)).text\n",
    "            text_4 = browser.find_element_by_xpath(\"/html/body/div[1]/div[3]/div/div[1]/div/div[1]/div[5]/div[3]/div/div[{}]/div/div/div[2]/a[1]/i/span\".format(num)).get_attribute('innerHTML')\n",
    "            comments.append(text_1)\n",
    "            date.append(text_2)\n",
    "            helpful.append(text_3)\n",
    "            ratings.append(text_4)\n",
    "        \n",
    "        except:\n",
    "            continue\n",
    "    \n",
    "    browser.get(cr_url)\n",
    "    browser.find_element_by_xpath(\"/html/body/div[2]/div/header/div[1]/div[3]/div/div/div[1]/div/div/div/a/div[2]\").click()\n",
    "    browser.find_element_by_xpath(\"/html/body/div[2]/div/div[2]/div/div/div/div/div[1]/form/div[1]/input\").send_keys(\"94lyj@snu.ac.kr\")\n",
    "    time.sleep(2)\n",
    "    browser.find_element_by_xpath(\"/html/body/div[2]/div/div[2]/div/div/div/div/div[1]/form/div[2]/input\").send_keys(\"94lyj@snu.ac.kr\")\n",
    "    browser.find_element_by_xpath(\"/html/body/div[2]/div/div[2]/div/div/div/div/div[1]/form/div[6]/input\").click()\n",
    "    time.sleep(2)\n",
    "    report_score = browser.find_element_by_xpath(\"/html/body/div[4]/div/div/div[2]/div/div[2]/div[3]/div[1]/div[1]/div/div/div[1]/div[2]/span/div/p\").text\n",
    "    browser.quit()\n",
    "\n",
    "\n",
    "    df = pd.DataFrame(list(zip(comments, date, ratings, helpful)),\n",
    "                      columns=[\"comments\", \"date\", \"ratings\", \"helpful\"])\n",
    "    df['cs_score'] = report_score\n",
    "    \n",
    "    return df\n",
    "\n",
    "\n",
    "def collect_price(cr_url):\n",
    "    price = []\n",
    "    options = Options()\n",
    "    options.add_argument('--kiosk')\n",
    "    browser = webdriver.Chrome('chromedriver.exe', chrome_options=options)\n",
    "    browser.get(cr_url)\n",
    "    browser.find_element_by_xpath(\"/html/body/div[2]/div/header/div[1]/div[3]/div/div/div[1]/div/div/div/a/div[2]\").click()\n",
    "    browser.find_element_by_xpath(\"/html/body/div[2]/div/div[2]/div/div/div/div/div[1]/form/div[1]/input\").send_keys(\"94lyj@snu.ac.kr\")\n",
    "    time.sleep(2)\n",
    "    browser.find_element_by_xpath(\"/html/body/div[2]/div/div[2]/div/div/div/div/div[1]/form/div[2]/input\").send_keys(\"94lyj@snu.ac.kr\")\n",
    "    browser.find_element_by_xpath(\"/html/body/div[2]/div/div[2]/div/div/div/div/div[1]/form/div[6]/input\").click()\n",
    "    time.sleep(2)\n",
    "    try:\n",
    "        report_price = browser.find_element_by_xpath(\"/html/body/div[4]/div/div/div[2]/div/div[2]/div[3]/div[2]/div[3]/div[1]/div/div/div[1]/span[2]\").text\n",
    "    except:\n",
    "        report_price = browser.find_element_by_xpath(\"/html/body/div[4]/div/div/div[2]/div/div[2]/div[3]/div[2]/div[3]/div[1]/div/div/div[1]/div/span\").text        \n",
    "    browser.quit()\n",
    "    price.append(report_price)\n",
    "    \n",
    "    df = pd.DataFrame(price, columns=['price'])\n",
    "    return df"
   ]
  },
  {
   "cell_type": "code",
   "execution_count": null,
   "metadata": {},
   "outputs": [
    {
     "name": "stderr",
     "output_type": "stream",
     "text": [
      "<ipython-input-15-b4250cbe4f55>:9: DeprecationWarning: use options instead of chrome_options\n",
      "  browser = webdriver.Chrome('chromedriver.exe', chrome_options=options)\n"
     ]
    }
   ],
   "source": [
    "for i in range(57):\n",
    "    df = collect_data(url_data['amazon_link'][i], url_data['cr_link'][i])\n",
    "    df['category'] = url_data['category'][i]\n",
    "    df['product'] = url_data['Product'][i]\n",
    "    \n",
    "    df.to_csv('data{}.csv'.format(i+1), encoding=\"utf-8\")\n",
    "    \n",
    "for i in range(58, len(url_data)):\n",
    "    df = collect_data(url_data['amazon_link'][i], url_data['cr_link'][i])\n",
    "    df['category'] = url_data['category'][i]\n",
    "    df['product'] = url_data['Product'][i]\n",
    "    \n",
    "    df.to_csv('data{}.csv'.format(i+1), encoding=\"utf-8\")"
   ]
  },
  {
   "cell_type": "code",
   "execution_count": 5,
   "metadata": {},
   "outputs": [
    {
     "name": "stderr",
     "output_type": "stream",
     "text": [
      "<ipython-input-4-b4250cbe4f55>:76: DeprecationWarning: use options instead of chrome_options\n",
      "  browser = webdriver.Chrome('chromedriver.exe', chrome_options=options)\n"
     ]
    }
   ],
   "source": [
    "for i in range(57):\n",
    "    df = collect_price(url_data['cr_link'][i])\n",
    "    df['product'] = url_data['Product'][i]\n",
    "    \n",
    "    df.to_csv('price{}.csv'.format(i+1))\n",
    "\n",
    "for i in range(58, len(url_data)):\n",
    "    df = collect_price(url_data['cr_link'][i])\n",
    "    df['product'] = url_data['Product'][i]\n",
    "    \n",
    "    df.to_csv('price{}.csv'.format(i+1))"
   ]
  }
 ],
 "metadata": {
  "kernelspec": {
   "display_name": "Python 3",
   "language": "python",
   "name": "python3"
  },
  "language_info": {
   "codemirror_mode": {
    "name": "ipython",
    "version": 3
   },
   "file_extension": ".py",
   "mimetype": "text/x-python",
   "name": "python",
   "nbconvert_exporter": "python",
   "pygments_lexer": "ipython3",
   "version": "3.8.3"
  }
 },
 "nbformat": 4,
 "nbformat_minor": 4
}
