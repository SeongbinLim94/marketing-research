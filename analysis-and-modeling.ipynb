{
 "cells": [
  {
   "cell_type": "code",
   "execution_count": 1,
   "metadata": {},
   "outputs": [],
   "source": [
    "import numpy as np\n",
    "import pandas as pd\n",
    "import statsmodels.api as sm\n",
    "import matplotlib.pyplot as plt\n",
    "import seaborn as sns\n",
    "%matplotlib inline\n",
    "from sklearn.preprocessing import MinMaxScaler"
   ]
  },
  {
   "cell_type": "code",
   "execution_count": 2,
   "metadata": {},
   "outputs": [
    {
     "data": {
      "text/html": [
       "<div>\n",
       "<style scoped>\n",
       "    .dataframe tbody tr th:only-of-type {\n",
       "        vertical-align: middle;\n",
       "    }\n",
       "\n",
       "    .dataframe tbody tr th {\n",
       "        vertical-align: top;\n",
       "    }\n",
       "\n",
       "    .dataframe thead th {\n",
       "        text-align: right;\n",
       "    }\n",
       "</style>\n",
       "<table border=\"1\" class=\"dataframe\">\n",
       "  <thead>\n",
       "    <tr style=\"text-align: right;\">\n",
       "      <th></th>\n",
       "      <th>comments</th>\n",
       "      <th>date</th>\n",
       "      <th>ratings</th>\n",
       "      <th>helpful</th>\n",
       "      <th>cs_score</th>\n",
       "      <th>category</th>\n",
       "      <th>product</th>\n",
       "      <th>price</th>\n",
       "    </tr>\n",
       "  </thead>\n",
       "  <tbody>\n",
       "    <tr>\n",
       "      <th>0</th>\n",
       "      <td>I would rate the 65\" CX as a 5/5 TV, but the n...</td>\n",
       "      <td>2020-04-10</td>\n",
       "      <td>2.0</td>\n",
       "      <td>966</td>\n",
       "      <td>87</td>\n",
       "      <td>Electronics &gt; TVs</td>\n",
       "      <td>LG OLED65CXPUA TV</td>\n",
       "      <td>2164.495</td>\n",
       "    </tr>\n",
       "    <tr>\n",
       "      <th>1</th>\n",
       "      <td>For $1800, you would expect a TV to have a gre...</td>\n",
       "      <td>2020-05-13</td>\n",
       "      <td>4.0</td>\n",
       "      <td>359</td>\n",
       "      <td>87</td>\n",
       "      <td>Electronics &gt; TVs</td>\n",
       "      <td>LG OLED65CXPUA TV</td>\n",
       "      <td>2164.495</td>\n",
       "    </tr>\n",
       "    <tr>\n",
       "      <th>2</th>\n",
       "      <td>Updated review (10/13/2020)\\n\\nMounting was a ...</td>\n",
       "      <td>2020-05-27</td>\n",
       "      <td>5.0</td>\n",
       "      <td>254</td>\n",
       "      <td>87</td>\n",
       "      <td>Electronics &gt; TVs</td>\n",
       "      <td>LG OLED65CXPUA TV</td>\n",
       "      <td>2164.495</td>\n",
       "    </tr>\n",
       "    <tr>\n",
       "      <th>3</th>\n",
       "      <td>I just got this yesterday. So this review, at ...</td>\n",
       "      <td>2020-04-23</td>\n",
       "      <td>5.0</td>\n",
       "      <td>146</td>\n",
       "      <td>87</td>\n",
       "      <td>Electronics &gt; TVs</td>\n",
       "      <td>LG OLED65CXPUA TV</td>\n",
       "      <td>2164.495</td>\n",
       "    </tr>\n",
       "    <tr>\n",
       "      <th>4</th>\n",
       "      <td>Yes, this is an amazing visual product and wel...</td>\n",
       "      <td>2020-08-11</td>\n",
       "      <td>1.0</td>\n",
       "      <td>131</td>\n",
       "      <td>87</td>\n",
       "      <td>Electronics &gt; TVs</td>\n",
       "      <td>LG OLED65CXPUA TV</td>\n",
       "      <td>2164.495</td>\n",
       "    </tr>\n",
       "    <tr>\n",
       "      <th>...</th>\n",
       "      <td>...</td>\n",
       "      <td>...</td>\n",
       "      <td>...</td>\n",
       "      <td>...</td>\n",
       "      <td>...</td>\n",
       "      <td>...</td>\n",
       "      <td>...</td>\n",
       "      <td>...</td>\n",
       "    </tr>\n",
       "    <tr>\n",
       "      <th>84969</th>\n",
       "      <td>Great product, decent price and super easy to ...</td>\n",
       "      <td>2021-04-06</td>\n",
       "      <td>5.0</td>\n",
       "      <td>1</td>\n",
       "      <td>80</td>\n",
       "      <td>Blood Pressure Monitors: Arm Models (-0.17)</td>\n",
       "      <td>Omron 3 Series BP7100</td>\n",
       "      <td>34.415</td>\n",
       "    </tr>\n",
       "    <tr>\n",
       "      <th>84970</th>\n",
       "      <td>Works great for my mom</td>\n",
       "      <td>2021-03-09</td>\n",
       "      <td>5.0</td>\n",
       "      <td>0</td>\n",
       "      <td>80</td>\n",
       "      <td>Blood Pressure Monitors: Arm Models (-0.17)</td>\n",
       "      <td>Omron 3 Series BP7100</td>\n",
       "      <td>34.415</td>\n",
       "    </tr>\n",
       "    <tr>\n",
       "      <th>84971</th>\n",
       "      <td>This is the second unit I bought. The first wa...</td>\n",
       "      <td>2021-04-19</td>\n",
       "      <td>5.0</td>\n",
       "      <td>1</td>\n",
       "      <td>80</td>\n",
       "      <td>Blood Pressure Monitors: Arm Models (-0.17)</td>\n",
       "      <td>Omron 3 Series BP7100</td>\n",
       "      <td>34.415</td>\n",
       "    </tr>\n",
       "    <tr>\n",
       "      <th>84972</th>\n",
       "      <td>Works great</td>\n",
       "      <td>2021-04-06</td>\n",
       "      <td>5.0</td>\n",
       "      <td>0</td>\n",
       "      <td>80</td>\n",
       "      <td>Blood Pressure Monitors: Arm Models (-0.17)</td>\n",
       "      <td>Omron 3 Series BP7100</td>\n",
       "      <td>34.415</td>\n",
       "    </tr>\n",
       "    <tr>\n",
       "      <th>84973</th>\n",
       "      <td>Very convenient to use</td>\n",
       "      <td>2021-03-20</td>\n",
       "      <td>5.0</td>\n",
       "      <td>0</td>\n",
       "      <td>80</td>\n",
       "      <td>Blood Pressure Monitors: Arm Models (-0.17)</td>\n",
       "      <td>Omron 3 Series BP7100</td>\n",
       "      <td>34.415</td>\n",
       "    </tr>\n",
       "  </tbody>\n",
       "</table>\n",
       "<p>84974 rows × 8 columns</p>\n",
       "</div>"
      ],
      "text/plain": [
       "                                                comments        date  ratings  \\\n",
       "0      I would rate the 65\" CX as a 5/5 TV, but the n...  2020-04-10      2.0   \n",
       "1      For $1800, you would expect a TV to have a gre...  2020-05-13      4.0   \n",
       "2      Updated review (10/13/2020)\\n\\nMounting was a ...  2020-05-27      5.0   \n",
       "3      I just got this yesterday. So this review, at ...  2020-04-23      5.0   \n",
       "4      Yes, this is an amazing visual product and wel...  2020-08-11      1.0   \n",
       "...                                                  ...         ...      ...   \n",
       "84969  Great product, decent price and super easy to ...  2021-04-06      5.0   \n",
       "84970                             Works great for my mom  2021-03-09      5.0   \n",
       "84971  This is the second unit I bought. The first wa...  2021-04-19      5.0   \n",
       "84972                                        Works great  2021-04-06      5.0   \n",
       "84973                             Very convenient to use  2021-03-20      5.0   \n",
       "\n",
       "       helpful  cs_score                                     category  \\\n",
       "0          966        87                            Electronics > TVs   \n",
       "1          359        87                            Electronics > TVs   \n",
       "2          254        87                            Electronics > TVs   \n",
       "3          146        87                            Electronics > TVs   \n",
       "4          131        87                            Electronics > TVs   \n",
       "...        ...       ...                                          ...   \n",
       "84969        1        80  Blood Pressure Monitors: Arm Models (-0.17)   \n",
       "84970        0        80  Blood Pressure Monitors: Arm Models (-0.17)   \n",
       "84971        1        80  Blood Pressure Monitors: Arm Models (-0.17)   \n",
       "84972        0        80  Blood Pressure Monitors: Arm Models (-0.17)   \n",
       "84973        0        80  Blood Pressure Monitors: Arm Models (-0.17)   \n",
       "\n",
       "                     product     price  \n",
       "0          LG OLED65CXPUA TV  2164.495  \n",
       "1          LG OLED65CXPUA TV  2164.495  \n",
       "2          LG OLED65CXPUA TV  2164.495  \n",
       "3          LG OLED65CXPUA TV  2164.495  \n",
       "4          LG OLED65CXPUA TV  2164.495  \n",
       "...                      ...       ...  \n",
       "84969  Omron 3 Series BP7100    34.415  \n",
       "84970  Omron 3 Series BP7100    34.415  \n",
       "84971  Omron 3 Series BP7100    34.415  \n",
       "84972  Omron 3 Series BP7100    34.415  \n",
       "84973  Omron 3 Series BP7100    34.415  \n",
       "\n",
       "[84974 rows x 8 columns]"
      ]
     },
     "execution_count": 2,
     "metadata": {},
     "output_type": "execute_result"
    }
   ],
   "source": [
    "df1 = pd.read_csv('dataset/raw_data.csv')\n",
    "df2 = pd.read_csv('price-dataset/raw_price_data.csv')\n",
    "df = pd.merge(df1, df2, left_on='product', right_on='product', how='inner')\n",
    "df['price'].fillna(349.97, inplace=True)\n",
    "df"
   ]
  },
  {
   "cell_type": "code",
   "execution_count": 3,
   "metadata": {},
   "outputs": [
    {
     "data": {
      "text/plain": [
       "'2000-05-02'"
      ]
     },
     "execution_count": 3,
     "metadata": {},
     "output_type": "execute_result"
    }
   ],
   "source": [
    "df['date'].min()"
   ]
  },
  {
   "cell_type": "code",
   "execution_count": 4,
   "metadata": {},
   "outputs": [],
   "source": [
    "ratings = df['ratings'].value_counts().sort_index()\n",
    "rating_df = pd.DataFrame(ratings)\n",
    "rating_df['RATING'] = rating_df['ratings'] / rating_df['ratings'].sum()"
   ]
  },
  {
   "cell_type": "code",
   "execution_count": 5,
   "metadata": {},
   "outputs": [
    {
     "data": {
      "text/html": [
       "<div>\n",
       "<style scoped>\n",
       "    .dataframe tbody tr th:only-of-type {\n",
       "        vertical-align: middle;\n",
       "    }\n",
       "\n",
       "    .dataframe tbody tr th {\n",
       "        vertical-align: top;\n",
       "    }\n",
       "\n",
       "    .dataframe thead th {\n",
       "        text-align: right;\n",
       "    }\n",
       "</style>\n",
       "<table border=\"1\" class=\"dataframe\">\n",
       "  <thead>\n",
       "    <tr style=\"text-align: right;\">\n",
       "      <th></th>\n",
       "      <th>ratings</th>\n",
       "      <th>RATING</th>\n",
       "    </tr>\n",
       "  </thead>\n",
       "  <tbody>\n",
       "    <tr>\n",
       "      <th>1.0</th>\n",
       "      <td>11048</td>\n",
       "      <td>0.130016</td>\n",
       "    </tr>\n",
       "    <tr>\n",
       "      <th>2.0</th>\n",
       "      <td>4954</td>\n",
       "      <td>0.058300</td>\n",
       "    </tr>\n",
       "    <tr>\n",
       "      <th>3.0</th>\n",
       "      <td>5895</td>\n",
       "      <td>0.069374</td>\n",
       "    </tr>\n",
       "    <tr>\n",
       "      <th>4.0</th>\n",
       "      <td>10208</td>\n",
       "      <td>0.120131</td>\n",
       "    </tr>\n",
       "    <tr>\n",
       "      <th>5.0</th>\n",
       "      <td>52869</td>\n",
       "      <td>0.622179</td>\n",
       "    </tr>\n",
       "  </tbody>\n",
       "</table>\n",
       "</div>"
      ],
      "text/plain": [
       "     ratings    RATING\n",
       "1.0    11048  0.130016\n",
       "2.0     4954  0.058300\n",
       "3.0     5895  0.069374\n",
       "4.0    10208  0.120131\n",
       "5.0    52869  0.622179"
      ]
     },
     "execution_count": 5,
     "metadata": {},
     "output_type": "execute_result"
    }
   ],
   "source": [
    "rating_df.head()"
   ]
  },
  {
   "cell_type": "code",
   "execution_count": 6,
   "metadata": {},
   "outputs": [
    {
     "data": {
      "image/png": "[encoded data removed]",
      "text/plain": [
       "<Figure size 432x288 with 1 Axes>"
      ]
     },
     "metadata": {
      "needs_background": "light"
     },
     "output_type": "display_data"
    }
   ],
   "source": [
    "sns.barplot(x=rating_df.index, y=rating_df['RATING'])\n",
    "plt.title(\"Ratio of User Ratings\", fontsize=20)\n",
    "plt.xlabel(\"Ratings\")\n",
    "plt.ylabel(\"Ratio\")\n",
    "plt.savefig(\"Ratio of User Ratings\")"
   ]
  },
  {
   "cell_type": "code",
   "execution_count": 7,
   "metadata": {},
   "outputs": [
    {
     "data": {
      "text/plain": [
       "50      383\n",
       "52      269\n",
       "54       37\n",
       "55      277\n",
       "58      515\n",
       "60      387\n",
       "66     5070\n",
       "68      319\n",
       "69    12787\n",
       "70       47\n",
       "71     9421\n",
       "73      217\n",
       "74     1757\n",
       "75     3325\n",
       "76      178\n",
       "77     1740\n",
       "78     4668\n",
       "80      549\n",
       "81     5537\n",
       "83     2247\n",
       "84     3453\n",
       "85     3472\n",
       "86     3766\n",
       "87     4983\n",
       "88     5039\n",
       "89     9974\n",
       "90      535\n",
       "91      147\n",
       "92     1060\n",
       "93      349\n",
       "95     2466\n",
       "Name: cs_score, dtype: int64"
      ]
     },
     "execution_count": 7,
     "metadata": {},
     "output_type": "execute_result"
    }
   ],
   "source": [
    "df['cs_score'].value_counts().sort_index()"
   ]
  },
  {
   "cell_type": "code",
   "execution_count": 9,
   "metadata": {},
   "outputs": [
    {
     "data": {
      "text/plain": [
       "31"
      ]
     },
     "execution_count": 9,
     "metadata": {},
     "output_type": "execute_result"
    }
   ],
   "source": [
    "len(df['cs_score'].value_counts().index)"
   ]
  },
  {
   "cell_type": "code",
   "execution_count": 44,
   "metadata": {},
   "outputs": [],
   "source": [
    "cs_scores = df['cs_score'].value_counts().sort_index()\n",
    "cs_scores_df = pd.DataFrame(cs_scores)\n",
    "cs_scores_df['cs_score'] = cs_scores_df['cs_score'] / cs_scores_df['cs_score'].sum()"
   ]
  },
  {
   "cell_type": "code",
   "execution_count": 45,
   "metadata": {},
   "outputs": [
    {
     "data": {
      "text/html": [
       "<div>\n",
       "<style scoped>\n",
       "    .dataframe tbody tr th:only-of-type {\n",
       "        vertical-align: middle;\n",
       "    }\n",
       "\n",
       "    .dataframe tbody tr th {\n",
       "        vertical-align: top;\n",
       "    }\n",
       "\n",
       "    .dataframe thead th {\n",
       "        text-align: right;\n",
       "    }\n",
       "</style>\n",
       "<table border=\"1\" class=\"dataframe\">\n",
       "  <thead>\n",
       "    <tr style=\"text-align: right;\">\n",
       "      <th></th>\n",
       "      <th>cs_score</th>\n",
       "    </tr>\n",
       "  </thead>\n",
       "  <tbody>\n",
       "    <tr>\n",
       "      <th>50</th>\n",
       "      <td>0.004507</td>\n",
       "    </tr>\n",
       "    <tr>\n",
       "      <th>52</th>\n",
       "      <td>0.003166</td>\n",
       "    </tr>\n",
       "    <tr>\n",
       "      <th>54</th>\n",
       "      <td>0.000435</td>\n",
       "    </tr>\n",
       "    <tr>\n",
       "      <th>55</th>\n",
       "      <td>0.003260</td>\n",
       "    </tr>\n",
       "    <tr>\n",
       "      <th>58</th>\n",
       "      <td>0.006061</td>\n",
       "    </tr>\n",
       "  </tbody>\n",
       "</table>\n",
       "</div>"
      ],
      "text/plain": [
       "    cs_score\n",
       "50  0.004507\n",
       "52  0.003166\n",
       "54  0.000435\n",
       "55  0.003260\n",
       "58  0.006061"
      ]
     },
     "execution_count": 45,
     "metadata": {},
     "output_type": "execute_result"
    }
   ],
   "source": [
    "cs_scores_df.head()"
   ]
  },
  {
   "cell_type": "code",
   "execution_count": 50,
   "metadata": {},
   "outputs": [
    {
     "data": {
      "image/png": "[encoded data removed]",
      "text/plain": [
       "<Figure size 432x288 with 1 Axes>"
      ]
     },
     "metadata": {
      "needs_background": "light"
     },
     "output_type": "display_data"
    }
   ],
   "source": [
    "sns.barplot(x=cs_scores_df.index, y=cs_scores_df['cs_score'])\n",
    "plt.title(\"Ratio of Consumer Report Scores\", fontsize=20)\n",
    "plt.xlabel(\"Report Scores\")\n",
    "plt.ylabel(\"Ratio\")\n",
    "plt.xticks(rotation=90)\n",
    "plt.savefig(\"Ratio of Consumer Report Scores\")"
   ]
  },
  {
   "cell_type": "code",
   "execution_count": 3,
   "metadata": {},
   "outputs": [
    {
     "name": "stderr",
     "output_type": "stream",
     "text": [
      "<ipython-input-3-873e2906ce56>:1: FutureWarning: Indexing with multiple keys (implicitly converted to a tuple of keys) will be deprecated, use a list instead.\n",
      "  avg_df = df.groupby('product')['ratings', 'price', 'cs_score'].mean().add_suffix('_mean').reset_index()\n"
     ]
    }
   ],
   "source": [
    "avg_df = df.groupby('product')['ratings', 'price', 'cs_score'].mean().add_suffix('_mean').reset_index()\n",
    "count_df = df.groupby('product')['ratings'].count().reset_index()\n",
    "std_df = df.groupby('product')['ratings'].std().reset_index()"
   ]
  },
  {
   "cell_type": "code",
   "execution_count": 4,
   "metadata": {},
   "outputs": [
    {
     "data": {
      "text/html": [
       "<div>\n",
       "<style scoped>\n",
       "    .dataframe tbody tr th:only-of-type {\n",
       "        vertical-align: middle;\n",
       "    }\n",
       "\n",
       "    .dataframe tbody tr th {\n",
       "        vertical-align: top;\n",
       "    }\n",
       "\n",
       "    .dataframe thead th {\n",
       "        text-align: right;\n",
       "    }\n",
       "</style>\n",
       "<table border=\"1\" class=\"dataframe\">\n",
       "  <thead>\n",
       "    <tr style=\"text-align: right;\">\n",
       "      <th></th>\n",
       "      <th>product</th>\n",
       "      <th>ratings_mean</th>\n",
       "      <th>price_mean</th>\n",
       "      <th>cs_score_mean</th>\n",
       "      <th>rating_cnt</th>\n",
       "      <th>se</th>\n",
       "      <th>ratingsXse</th>\n",
       "    </tr>\n",
       "  </thead>\n",
       "  <tbody>\n",
       "    <tr>\n",
       "      <th>0</th>\n",
       "      <td>Amazon Fire 7 (16GB) - 2019 Tablet</td>\n",
       "      <td>3.257400</td>\n",
       "      <td>49.990</td>\n",
       "      <td>66</td>\n",
       "      <td>5000</td>\n",
       "      <td>0.021470</td>\n",
       "      <td>0.069936</td>\n",
       "    </tr>\n",
       "    <tr>\n",
       "      <th>1</th>\n",
       "      <td>Amazon Fire HD 8 Plus Tablet</td>\n",
       "      <td>4.217000</td>\n",
       "      <td>109.990</td>\n",
       "      <td>71</td>\n",
       "      <td>5000</td>\n",
       "      <td>0.017400</td>\n",
       "      <td>0.073376</td>\n",
       "    </tr>\n",
       "    <tr>\n",
       "      <th>2</th>\n",
       "      <td>Apple IPad Air (4G, 64GB) - 2020 Tablet</td>\n",
       "      <td>4.585608</td>\n",
       "      <td>738.170</td>\n",
       "      <td>87</td>\n",
       "      <td>806</td>\n",
       "      <td>0.036903</td>\n",
       "      <td>0.169222</td>\n",
       "    </tr>\n",
       "    <tr>\n",
       "      <th>3</th>\n",
       "      <td>Apple IPad Mini (64GB) - 2019 Tablet</td>\n",
       "      <td>4.627172</td>\n",
       "      <td>384.495</td>\n",
       "      <td>83</td>\n",
       "      <td>1266</td>\n",
       "      <td>0.028050</td>\n",
       "      <td>0.129791</td>\n",
       "    </tr>\n",
       "    <tr>\n",
       "      <th>4</th>\n",
       "      <td>Apple IPad Pro 11 (4G, 128GB) - 2020 Tablet</td>\n",
       "      <td>4.440994</td>\n",
       "      <td>849.990</td>\n",
       "      <td>87</td>\n",
       "      <td>483</td>\n",
       "      <td>0.056267</td>\n",
       "      <td>0.249883</td>\n",
       "    </tr>\n",
       "    <tr>\n",
       "      <th>...</th>\n",
       "      <td>...</td>\n",
       "      <td>...</td>\n",
       "      <td>...</td>\n",
       "      <td>...</td>\n",
       "      <td>...</td>\n",
       "      <td>...</td>\n",
       "      <td>...</td>\n",
       "    </tr>\n",
       "    <tr>\n",
       "      <th>89</th>\n",
       "      <td>Vitamix Vitamix 12-Cup Food Processor Attachme...</td>\n",
       "      <td>3.702128</td>\n",
       "      <td>227.975</td>\n",
       "      <td>70</td>\n",
       "      <td>47</td>\n",
       "      <td>0.246933</td>\n",
       "      <td>0.914177</td>\n",
       "    </tr>\n",
       "    <tr>\n",
       "      <th>90</th>\n",
       "      <td>WW WW26 Bathroom Scale</td>\n",
       "      <td>3.492481</td>\n",
       "      <td>28.995</td>\n",
       "      <td>89</td>\n",
       "      <td>266</td>\n",
       "      <td>0.109195</td>\n",
       "      <td>0.381360</td>\n",
       "    </tr>\n",
       "    <tr>\n",
       "      <th>91</th>\n",
       "      <td>Withings Body Bathroom Scale</td>\n",
       "      <td>3.915217</td>\n",
       "      <td>59.990</td>\n",
       "      <td>90</td>\n",
       "      <td>460</td>\n",
       "      <td>0.070978</td>\n",
       "      <td>0.277894</td>\n",
       "    </tr>\n",
       "    <tr>\n",
       "      <th>92</th>\n",
       "      <td>Zwilling J.A. Henckels Four Star Kitchen Knife</td>\n",
       "      <td>4.666667</td>\n",
       "      <td>99.970</td>\n",
       "      <td>85</td>\n",
       "      <td>219</td>\n",
       "      <td>0.058371</td>\n",
       "      <td>0.272399</td>\n",
       "    </tr>\n",
       "    <tr>\n",
       "      <th>93</th>\n",
       "      <td>Zwilling J.A. Henckels Twin Professional \"S\" K...</td>\n",
       "      <td>4.471362</td>\n",
       "      <td>329.950</td>\n",
       "      <td>87</td>\n",
       "      <td>1292</td>\n",
       "      <td>0.029646</td>\n",
       "      <td>0.132557</td>\n",
       "    </tr>\n",
       "  </tbody>\n",
       "</table>\n",
       "<p>94 rows × 7 columns</p>\n",
       "</div>"
      ],
      "text/plain": [
       "                                              product  ratings_mean  \\\n",
       "0                  Amazon Fire 7 (16GB) - 2019 Tablet      3.257400   \n",
       "1                        Amazon Fire HD 8 Plus Tablet      4.217000   \n",
       "2             Apple IPad Air (4G, 64GB) - 2020 Tablet      4.585608   \n",
       "3                Apple IPad Mini (64GB) - 2019 Tablet      4.627172   \n",
       "4         Apple IPad Pro 11 (4G, 128GB) - 2020 Tablet      4.440994   \n",
       "..                                                ...           ...   \n",
       "89  Vitamix Vitamix 12-Cup Food Processor Attachme...      3.702128   \n",
       "90                             WW WW26 Bathroom Scale      3.492481   \n",
       "91                       Withings Body Bathroom Scale      3.915217   \n",
       "92     Zwilling J.A. Henckels Four Star Kitchen Knife      4.666667   \n",
       "93  Zwilling J.A. Henckels Twin Professional \"S\" K...      4.471362   \n",
       "\n",
       "    price_mean  cs_score_mean  rating_cnt        se  ratingsXse  \n",
       "0       49.990             66        5000  0.021470    0.069936  \n",
       "1      109.990             71        5000  0.017400    0.073376  \n",
       "2      738.170             87         806  0.036903    0.169222  \n",
       "3      384.495             83        1266  0.028050    0.129791  \n",
       "4      849.990             87         483  0.056267    0.249883  \n",
       "..         ...            ...         ...       ...         ...  \n",
       "89     227.975             70          47  0.246933    0.914177  \n",
       "90      28.995             89         266  0.109195    0.381360  \n",
       "91      59.990             90         460  0.070978    0.277894  \n",
       "92      99.970             85         219  0.058371    0.272399  \n",
       "93     329.950             87        1292  0.029646    0.132557  \n",
       "\n",
       "[94 rows x 7 columns]"
      ]
     },
     "execution_count": 4,
     "metadata": {},
     "output_type": "execute_result"
    }
   ],
   "source": [
    "avg_cnt = pd.merge(avg_df, count_df, left_on='product', right_on='product', how='inner')\n",
    "agg_df = pd.merge(avg_cnt, std_df, left_on='product', right_on='product', how='inner')\n",
    "agg_df['se'] = agg_df['ratings_y'] / np.sqrt(agg_df['ratings_x'])\n",
    "agg_df = agg_df.drop(columns='ratings_y')\n",
    "agg_df.rename(columns={\"ratings_x\": \"rating_cnt\"}, inplace=True)\n",
    "agg_df['ratingsXse'] = agg_df['ratings_mean'] * agg_df['se']\n",
    "agg_df.iloc[29, 2] = 349.97\n",
    "agg_df"
   ]
  },
  {
   "cell_type": "code",
   "execution_count": 28,
   "metadata": {},
   "outputs": [
    {
     "data": {
      "text/html": [
       "<div>\n",
       "<style scoped>\n",
       "    .dataframe tbody tr th:only-of-type {\n",
       "        vertical-align: middle;\n",
       "    }\n",
       "\n",
       "    .dataframe tbody tr th {\n",
       "        vertical-align: top;\n",
       "    }\n",
       "\n",
       "    .dataframe thead th {\n",
       "        text-align: right;\n",
       "    }\n",
       "</style>\n",
       "<table border=\"1\" class=\"dataframe\">\n",
       "  <thead>\n",
       "    <tr style=\"text-align: right;\">\n",
       "      <th></th>\n",
       "      <th>ratings_mean</th>\n",
       "      <th>price_mean</th>\n",
       "      <th>cs_score_mean</th>\n",
       "      <th>rating_cnt</th>\n",
       "      <th>se</th>\n",
       "      <th>ratingsXse</th>\n",
       "    </tr>\n",
       "  </thead>\n",
       "  <tbody>\n",
       "    <tr>\n",
       "      <th>count</th>\n",
       "      <td>94.000000</td>\n",
       "      <td>94.000000</td>\n",
       "      <td>94.000000</td>\n",
       "      <td>94.000000</td>\n",
       "      <td>94.000000</td>\n",
       "      <td>94.000000</td>\n",
       "    </tr>\n",
       "    <tr>\n",
       "      <th>mean</th>\n",
       "      <td>3.998980</td>\n",
       "      <td>368.088351</td>\n",
       "      <td>78.904255</td>\n",
       "      <td>903.978723</td>\n",
       "      <td>0.106146</td>\n",
       "      <td>0.411475</td>\n",
       "    </tr>\n",
       "    <tr>\n",
       "      <th>std</th>\n",
       "      <td>0.404306</td>\n",
       "      <td>514.989523</td>\n",
       "      <td>9.891964</td>\n",
       "      <td>1318.503705</td>\n",
       "      <td>0.123848</td>\n",
       "      <td>0.475045</td>\n",
       "    </tr>\n",
       "    <tr>\n",
       "      <th>min</th>\n",
       "      <td>2.914286</td>\n",
       "      <td>0.280000</td>\n",
       "      <td>50.000000</td>\n",
       "      <td>4.000000</td>\n",
       "      <td>0.015492</td>\n",
       "      <td>0.069508</td>\n",
       "    </tr>\n",
       "    <tr>\n",
       "      <th>25%</th>\n",
       "      <td>3.688925</td>\n",
       "      <td>61.033750</td>\n",
       "      <td>73.000000</td>\n",
       "      <td>147.500000</td>\n",
       "      <td>0.042368</td>\n",
       "      <td>0.186365</td>\n",
       "    </tr>\n",
       "    <tr>\n",
       "      <th>50%</th>\n",
       "      <td>4.023686</td>\n",
       "      <td>142.992500</td>\n",
       "      <td>81.000000</td>\n",
       "      <td>339.000000</td>\n",
       "      <td>0.076829</td>\n",
       "      <td>0.311071</td>\n",
       "    </tr>\n",
       "    <tr>\n",
       "      <th>75%</th>\n",
       "      <td>4.278286</td>\n",
       "      <td>428.736250</td>\n",
       "      <td>86.750000</td>\n",
       "      <td>974.750000</td>\n",
       "      <td>0.120123</td>\n",
       "      <td>0.482711</td>\n",
       "    </tr>\n",
       "    <tr>\n",
       "      <th>max</th>\n",
       "      <td>4.666667</td>\n",
       "      <td>2999.990000</td>\n",
       "      <td>95.000000</td>\n",
       "      <td>5000.000000</td>\n",
       "      <td>1.000000</td>\n",
       "      <td>4.000000</td>\n",
       "    </tr>\n",
       "  </tbody>\n",
       "</table>\n",
       "</div>"
      ],
      "text/plain": [
       "       ratings_mean   price_mean  cs_score_mean   rating_cnt         se  \\\n",
       "count     94.000000    94.000000      94.000000    94.000000  94.000000   \n",
       "mean       3.998980   368.088351      78.904255   903.978723   0.106146   \n",
       "std        0.404306   514.989523       9.891964  1318.503705   0.123848   \n",
       "min        2.914286     0.280000      50.000000     4.000000   0.015492   \n",
       "25%        3.688925    61.033750      73.000000   147.500000   0.042368   \n",
       "50%        4.023686   142.992500      81.000000   339.000000   0.076829   \n",
       "75%        4.278286   428.736250      86.750000   974.750000   0.120123   \n",
       "max        4.666667  2999.990000      95.000000  5000.000000   1.000000   \n",
       "\n",
       "       ratingsXse  \n",
       "count   94.000000  \n",
       "mean     0.411475  \n",
       "std      0.475045  \n",
       "min      0.069508  \n",
       "25%      0.186365  \n",
       "50%      0.311071  \n",
       "75%      0.482711  \n",
       "max      4.000000  "
      ]
     },
     "execution_count": 28,
     "metadata": {},
     "output_type": "execute_result"
    }
   ],
   "source": [
    "agg_df.describe()"
   ]
  },
  {
   "cell_type": "code",
   "execution_count": 54,
   "metadata": {},
   "outputs": [
    {
     "data": {
      "image/png": "[encoded data removed]",
      "text/plain": [
       "<Figure size 432x288 with 1 Axes>"
      ]
     },
     "metadata": {
      "needs_background": "light"
     },
     "output_type": "display_data"
    }
   ],
   "source": [
    "rating_cnt = agg_df['rating_cnt'].value_counts().sort_index()\n",
    "count_df = pd.DataFrame(rating_cnt)\n",
    "count_df['rating_cnt'] = count_df['rating_cnt'] / count_df['rating_cnt'].sum()\n",
    "\n",
    "sns.barplot(x=count_df.index, y=count_df['rating_cnt'])\n",
    "plt.title(\"Ratio of Number of Reviews\", fontsize=20)\n",
    "plt.xlabel(\"Number of Reviews\")\n",
    "plt.ylabel(\"Ratio\")\n",
    "plt.xticks(rotation=90)\n",
    "plt.savefig(\"Ratio of Number of Reviews\")"
   ]
  },
  {
   "cell_type": "markdown",
   "metadata": {},
   "source": [
    "### Visualization"
   ]
  },
  {
   "cell_type": "code",
   "execution_count": 5,
   "metadata": {},
   "outputs": [
    {
     "data": {
      "text/plain": [
       "<matplotlib.collections.PathCollection at 0x2709cb46ca0>"
      ]
     },
     "execution_count": 5,
     "metadata": {},
     "output_type": "execute_result"
    },
    {
     "data": {
      "image/png": "[encoded data removed]",
      "text/plain": [
       "<Figure size 432x288 with 1 Axes>"
      ]
     },
     "metadata": {
      "needs_background": "light"
     },
     "output_type": "display_data"
    }
   ],
   "source": [
    "plt.scatter(df['ratings'], df['cs_score'])"
   ]
  },
  {
   "cell_type": "markdown",
   "metadata": {},
   "source": [
    "### Dummy Regression"
   ]
  },
  {
   "cell_type": "code",
   "execution_count": 6,
   "metadata": {},
   "outputs": [
    {
     "data": {
      "text/html": [
       "<div>\n",
       "<style scoped>\n",
       "    .dataframe tbody tr th:only-of-type {\n",
       "        vertical-align: middle;\n",
       "    }\n",
       "\n",
       "    .dataframe tbody tr th {\n",
       "        vertical-align: top;\n",
       "    }\n",
       "\n",
       "    .dataframe thead th {\n",
       "        text-align: right;\n",
       "    }\n",
       "</style>\n",
       "<table border=\"1\" class=\"dataframe\">\n",
       "  <thead>\n",
       "    <tr style=\"text-align: right;\">\n",
       "      <th></th>\n",
       "      <th>2.0</th>\n",
       "      <th>3.0</th>\n",
       "      <th>4.0</th>\n",
       "      <th>5.0</th>\n",
       "    </tr>\n",
       "  </thead>\n",
       "  <tbody>\n",
       "    <tr>\n",
       "      <th>0</th>\n",
       "      <td>1</td>\n",
       "      <td>0</td>\n",
       "      <td>0</td>\n",
       "      <td>0</td>\n",
       "    </tr>\n",
       "    <tr>\n",
       "      <th>1</th>\n",
       "      <td>0</td>\n",
       "      <td>0</td>\n",
       "      <td>1</td>\n",
       "      <td>0</td>\n",
       "    </tr>\n",
       "    <tr>\n",
       "      <th>2</th>\n",
       "      <td>0</td>\n",
       "      <td>0</td>\n",
       "      <td>0</td>\n",
       "      <td>1</td>\n",
       "    </tr>\n",
       "    <tr>\n",
       "      <th>3</th>\n",
       "      <td>0</td>\n",
       "      <td>0</td>\n",
       "      <td>0</td>\n",
       "      <td>1</td>\n",
       "    </tr>\n",
       "    <tr>\n",
       "      <th>4</th>\n",
       "      <td>0</td>\n",
       "      <td>0</td>\n",
       "      <td>0</td>\n",
       "      <td>0</td>\n",
       "    </tr>\n",
       "    <tr>\n",
       "      <th>...</th>\n",
       "      <td>...</td>\n",
       "      <td>...</td>\n",
       "      <td>...</td>\n",
       "      <td>...</td>\n",
       "    </tr>\n",
       "    <tr>\n",
       "      <th>84969</th>\n",
       "      <td>0</td>\n",
       "      <td>0</td>\n",
       "      <td>0</td>\n",
       "      <td>1</td>\n",
       "    </tr>\n",
       "    <tr>\n",
       "      <th>84970</th>\n",
       "      <td>0</td>\n",
       "      <td>0</td>\n",
       "      <td>0</td>\n",
       "      <td>1</td>\n",
       "    </tr>\n",
       "    <tr>\n",
       "      <th>84971</th>\n",
       "      <td>0</td>\n",
       "      <td>0</td>\n",
       "      <td>0</td>\n",
       "      <td>1</td>\n",
       "    </tr>\n",
       "    <tr>\n",
       "      <th>84972</th>\n",
       "      <td>0</td>\n",
       "      <td>0</td>\n",
       "      <td>0</td>\n",
       "      <td>1</td>\n",
       "    </tr>\n",
       "    <tr>\n",
       "      <th>84973</th>\n",
       "      <td>0</td>\n",
       "      <td>0</td>\n",
       "      <td>0</td>\n",
       "      <td>1</td>\n",
       "    </tr>\n",
       "  </tbody>\n",
       "</table>\n",
       "<p>84974 rows × 4 columns</p>\n",
       "</div>"
      ],
      "text/plain": [
       "       2.0  3.0  4.0  5.0\n",
       "0        1    0    0    0\n",
       "1        0    0    1    0\n",
       "2        0    0    0    1\n",
       "3        0    0    0    1\n",
       "4        0    0    0    0\n",
       "...    ...  ...  ...  ...\n",
       "84969    0    0    0    1\n",
       "84970    0    0    0    1\n",
       "84971    0    0    0    1\n",
       "84972    0    0    0    1\n",
       "84973    0    0    0    1\n",
       "\n",
       "[84974 rows x 4 columns]"
      ]
     },
     "execution_count": 6,
     "metadata": {},
     "output_type": "execute_result"
    }
   ],
   "source": [
    "dummies = pd.get_dummies(df['ratings'], drop_first=True)\n",
    "dummies"
   ]
  },
  {
   "cell_type": "code",
   "execution_count": 7,
   "metadata": {},
   "outputs": [
    {
     "name": "stdout",
     "output_type": "stream",
     "text": [
      "                            OLS Regression Results                            \n",
      "==============================================================================\n",
      "Dep. Variable:               cs_score   R-squared:                       0.003\n",
      "Model:                            OLS   Adj. R-squared:                  0.003\n",
      "Method:                 Least Squares   F-statistic:                     65.49\n",
      "Date:                Wed, 26 May 2021   Prob (F-statistic):           2.11e-55\n",
      "Time:                        14:30:50   Log-Likelihood:            -3.0852e+05\n",
      "No. Observations:               84974   AIC:                         6.170e+05\n",
      "Df Residuals:                   84969   BIC:                         6.171e+05\n",
      "Df Model:                           4                                         \n",
      "Covariance Type:            nonrobust                                         \n",
      "==============================================================================\n",
      "                 coef    std err          t      P>|t|      [0.025      0.975]\n",
      "------------------------------------------------------------------------------\n",
      "const         79.7829      0.087    918.262      0.000      79.613      79.953\n",
      "2.0           -0.8871      0.156     -5.681      0.000      -1.193      -0.581\n",
      "3.0           -1.8118      0.147    -12.300      0.000      -2.100      -1.523\n",
      "4.0           -1.7922      0.125    -14.294      0.000      -2.038      -1.546\n",
      "5.0           -0.8819      0.096     -9.231      0.000      -1.069      -0.695\n",
      "==============================================================================\n",
      "Omnibus:                     5725.325   Durbin-Watson:                   0.008\n",
      "Prob(Omnibus):                  0.000   Jarque-Bera (JB):             3032.962\n",
      "Skew:                          -0.303   Prob(JB):                         0.00\n",
      "Kurtosis:                       2.301   Cond. No.                         8.40\n",
      "==============================================================================\n",
      "\n",
      "Warnings:\n",
      "[1] Standard Errors assume that the covariance matrix of the errors is correctly specified.\n"
     ]
    }
   ],
   "source": [
    "X = dummies\n",
    "Y = df['cs_score']\n",
    "\n",
    "\n",
    "X = sm.add_constant(X)\n",
    "\n",
    "model = sm.OLS(Y, X).fit()\n",
    "predictions = model.predict(X)\n",
    "\n",
    "print_model = model.summary()\n",
    "print(print_model)"
   ]
  },
  {
   "cell_type": "markdown",
   "metadata": {},
   "source": [
    "### Scaling & Regression"
   ]
  },
  {
   "cell_type": "code",
   "execution_count": 8,
   "metadata": {},
   "outputs": [],
   "source": [
    "mean_val = df['ratings'].mean()\n",
    "std_val = df['ratings'].std()"
   ]
  },
  {
   "cell_type": "code",
   "execution_count": 9,
   "metadata": {},
   "outputs": [
    {
     "name": "stdout",
     "output_type": "stream",
     "text": [
      "                            OLS Regression Results                            \n",
      "==============================================================================\n",
      "Dep. Variable:               cs_score   R-squared:                       0.000\n",
      "Model:                            OLS   Adj. R-squared:                  0.000\n",
      "Method:                 Least Squares   F-statistic:                     37.02\n",
      "Date:                Wed, 26 May 2021   Prob (F-statistic):           1.17e-09\n",
      "Time:                        14:30:50   Log-Likelihood:            -3.0863e+05\n",
      "No. Observations:               84974   AIC:                         6.173e+05\n",
      "Df Residuals:                   84972   BIC:                         6.173e+05\n",
      "Df Model:                           1                                         \n",
      "Covariance Type:            nonrobust                                         \n",
      "==============================================================================\n",
      "                 coef    std err          t      P>|t|      [0.025      0.975]\n",
      "------------------------------------------------------------------------------\n",
      "const         79.0064      0.041   1906.197      0.000      78.925      79.088\n",
      "ratings       -0.1319      0.022     -6.084      0.000      -0.174      -0.089\n",
      "==============================================================================\n",
      "Omnibus:                     5854.366   Durbin-Watson:                   0.002\n",
      "Prob(Omnibus):                  0.000   Jarque-Bera (JB):             3091.147\n",
      "Skew:                          -0.307   Prob(JB):                         0.00\n",
      "Kurtosis:                       2.296   Cond. No.                         2.87\n",
      "==============================================================================\n",
      "\n",
      "Warnings:\n",
      "[1] Standard Errors assume that the covariance matrix of the errors is correctly specified.\n"
     ]
    }
   ],
   "source": [
    "X = df['ratings']\n",
    "scaled_X = X.apply(lambda x: x - mean_val / std_val)\n",
    "Y = df['cs_score']\n",
    "\n",
    "\n",
    "scaled_X = sm.add_constant(scaled_X)\n",
    "\n",
    "model = sm.OLS(Y, scaled_X).fit()\n",
    "predictions = model.predict(scaled_X)\n",
    "\n",
    "print_model = model.summary()\n",
    "print(print_model)"
   ]
  },
  {
   "cell_type": "markdown",
   "metadata": {},
   "source": [
    "### 논문 구현(Model A)\n",
    "cs_score ~ avg_user_ratings + SE + (avg_user_ratings x SE) + price"
   ]
  },
  {
   "cell_type": "code",
   "execution_count": 73,
   "metadata": {},
   "outputs": [],
   "source": [
    "scaled_agg = agg_df.copy()"
   ]
  },
  {
   "cell_type": "code",
   "execution_count": 74,
   "metadata": {},
   "outputs": [],
   "source": [
    "def min_max_scaler(series):\n",
    "    _min = series.min()\n",
    "    _max = series.max()\n",
    "    series = series.apply(lambda x: (x - _min)/(_max - _min))\n",
    "    return series"
   ]
  },
  {
   "cell_type": "code",
   "execution_count": 80,
   "metadata": {},
   "outputs": [],
   "source": [
    "scaled_agg['ratings_mean'] = min_max_scaler(scaled_agg['ratings_mean'])\n",
    "scaled_agg['se'] = min_max_scaler(scaled_agg['se'])\n",
    "scaled_agg['ratingsXse'] = min_max_scaler(scaled_agg['ratingsXse'])\n",
    "scaled_agg['price_mean'] = min_max_scaler(scaled_agg['price_mean'])\n",
    "scaled_agg['cs_score_mean'] = min_max_scaler(scaled_agg['cs_score_mean'])"
   ]
  },
  {
   "cell_type": "code",
   "execution_count": 82,
   "metadata": {},
   "outputs": [
    {
     "name": "stdout",
     "output_type": "stream",
     "text": [
      "                            OLS Regression Results                            \n",
      "==============================================================================\n",
      "Dep. Variable:          cs_score_mean   R-squared:                       0.068\n",
      "Model:                            OLS   Adj. R-squared:                  0.026\n",
      "Method:                 Least Squares   F-statistic:                     1.612\n",
      "Date:                Wed, 26 May 2021   Prob (F-statistic):              0.178\n",
      "Time:                        17:19:14   Log-Likelihood:                 12.814\n",
      "No. Observations:                  94   AIC:                            -15.63\n",
      "Df Residuals:                      89   BIC:                            -2.911\n",
      "Df Model:                           4                                         \n",
      "Covariance Type:            nonrobust                                         \n",
      "================================================================================\n",
      "                   coef    std err          t      P>|t|      [0.025      0.975]\n",
      "--------------------------------------------------------------------------------\n",
      "const            0.8061      0.117      6.920      0.000       0.575       1.038\n",
      "ratings_mean    -0.2585      0.172     -1.500      0.137      -0.601       0.084\n",
      "se              -4.0797      2.755     -1.481      0.142      -9.554       1.394\n",
      "ratingsXse       3.9175      2.811      1.393      0.167      -1.669       9.504\n",
      "price_mean       0.2529      0.136      1.862      0.066      -0.017       0.523\n",
      "==============================================================================\n",
      "Omnibus:                       11.167   Durbin-Watson:                   2.029\n",
      "Prob(Omnibus):                  0.004   Jarque-Bera (JB):               11.445\n",
      "Skew:                          -0.816   Prob(JB):                      0.00327\n",
      "Kurtosis:                       3.511   Cond. No.                         210.\n",
      "==============================================================================\n",
      "\n",
      "Warnings:\n",
      "[1] Standard Errors assume that the covariance matrix of the errors is correctly specified.\n"
     ]
    }
   ],
   "source": [
    "X = scaled_agg[['ratings_mean', 'se', 'ratingsXse', 'price_mean']]\n",
    "Y = scaled_agg['cs_score_mean']\n",
    "\n",
    "X = sm.add_constant(X)\n",
    "\n",
    "model = sm.OLS(Y, X).fit()\n",
    "predictions = model.predict(X)\n",
    "\n",
    "print_model = model.summary()\n",
    "print(print_model)"
   ]
  },
  {
   "cell_type": "code",
   "execution_count": 84,
   "metadata": {},
   "outputs": [
    {
     "data": {
      "text/plain": [
       "<matplotlib.collections.PathCollection at 0x2709c78aa60>"
      ]
     },
     "execution_count": 84,
     "metadata": {},
     "output_type": "execute_result"
    },
    {
     "data": {
      "image/png": "[encoded data removed]",
      "text/plain": [
       "<Figure size 432x288 with 1 Axes>"
      ]
     },
     "metadata": {
      "needs_background": "light"
     },
     "output_type": "display_data"
    }
   ],
   "source": [
    "plt.scatter(scaled_agg['ratings_mean'], scaled_agg['cs_score_mean'])"
   ]
  },
  {
   "cell_type": "markdown",
   "metadata": {},
   "source": [
    "### Sentiment Analysis"
   ]
  },
  {
   "cell_type": "code",
   "execution_count": 13,
   "metadata": {},
   "outputs": [],
   "source": [
    "import re\n",
    "from nltk.tokenize import RegexpTokenizer\n",
    "from nltk.corpus import stopwords\n",
    "from nltk.stem import WordNetLemmatizer, PorterStemmer\n",
    "from nltk.corpus import stopwords\n",
    "stop_words = set(stopwords.words('english'))\n",
    "lemmatizer = WordNetLemmatizer()\n",
    "stemmer = PorterStemmer()\n",
    "from vaderSentiment.vaderSentiment import SentimentIntensityAnalyzer\n",
    "analyzer = SentimentIntensityAnalyzer()"
   ]
  },
  {
   "cell_type": "code",
   "execution_count": 14,
   "metadata": {},
   "outputs": [],
   "source": [
    "def nlp(msg):\n",
    "    msg = str(msg)\n",
    "    msg = msg.lower()\n",
    "    cleanr = re.compile('<.*?>')\n",
    "    cleantext = re.sub(cleanr, '', msg)\n",
    "    rem_url = re.sub(r'http\\S+', '',cleantext)\n",
    "    rem_num = re.sub('[0-9]+', '', rem_url)\n",
    "    tokenizer = RegexpTokenizer(r'\\w+')\n",
    "    tokens = tokenizer.tokenize(rem_num)\n",
    "    filtered_words = [w for w in tokens if len(w) > 2 if not w in stopwords.words('english')]\n",
    "    stem_words=[stemmer.stem(w) for w in filtered_words]\n",
    "    lemma_words=[lemmatizer.lemmatize(w) for w in stem_words]\n",
    "    return \" \".join(lemma_words)\n",
    "\n",
    "def sentiment_analyzer_scores(comment):\n",
    "    score = analyzer.polarity_scores(comment)\n",
    "    return score\n",
    "\n",
    "def extract_valence(comment):\n",
    "    valence = None\n",
    "    \n",
    "    if (comment['pos'] > 0) and (comment['compound'] >= 0.05):\n",
    "        valence = 1\n",
    "    elif (comment['neg'] > 0) and (comment['compound'] <= -0.05):\n",
    "        valence = -1\n",
    "    elif (comment['neu'] > 0) and (-0.05 < comment['compound'] < 0.05):\n",
    "        valence = 0\n",
    "\n",
    "    return valence"
   ]
  },
  {
   "cell_type": "code",
   "execution_count": 15,
   "metadata": {},
   "outputs": [],
   "source": [
    "df['comments_nlp'] = df['comments'].apply(lambda x: nlp(x))"
   ]
  },
  {
   "cell_type": "code",
   "execution_count": 16,
   "metadata": {},
   "outputs": [],
   "source": [
    "df['sentiment'] = df['comments_nlp'].apply(lambda x: sentiment_analyzer_scores(x))"
   ]
  },
  {
   "cell_type": "code",
   "execution_count": 17,
   "metadata": {},
   "outputs": [],
   "source": [
    "df['valence'] = df['sentiment'].apply(lambda x: extract_valence(x))"
   ]
  },
  {
   "cell_type": "code",
   "execution_count": 18,
   "metadata": {},
   "outputs": [
    {
     "data": {
      "text/html": [
       "<div>\n",
       "<style scoped>\n",
       "    .dataframe tbody tr th:only-of-type {\n",
       "        vertical-align: middle;\n",
       "    }\n",
       "\n",
       "    .dataframe tbody tr th {\n",
       "        vertical-align: top;\n",
       "    }\n",
       "\n",
       "    .dataframe thead th {\n",
       "        text-align: right;\n",
       "    }\n",
       "</style>\n",
       "<table border=\"1\" class=\"dataframe\">\n",
       "  <thead>\n",
       "    <tr style=\"text-align: right;\">\n",
       "      <th></th>\n",
       "      <th>comments_nlp</th>\n",
       "      <th>sentiment</th>\n",
       "      <th>valence</th>\n",
       "    </tr>\n",
       "  </thead>\n",
       "  <tbody>\n",
       "    <tr>\n",
       "      <th>0</th>\n",
       "      <td>would rate number softwar issu bug experienc m...</td>\n",
       "      <td>{'neg': 0.045, 'neu': 0.79, 'pos': 0.165, 'com...</td>\n",
       "      <td>1.0</td>\n",
       "    </tr>\n",
       "    <tr>\n",
       "      <th>1</th>\n",
       "      <td>would expect great pictur one worth price plea...</td>\n",
       "      <td>{'neg': 0.068, 'neu': 0.739, 'pos': 0.193, 'co...</td>\n",
       "      <td>1.0</td>\n",
       "    </tr>\n",
       "    <tr>\n",
       "      <th>2</th>\n",
       "      <td>updat review mount breez took minut screw moun...</td>\n",
       "      <td>{'neg': 0.058, 'neu': 0.794, 'pos': 0.148, 'co...</td>\n",
       "      <td>1.0</td>\n",
       "    </tr>\n",
       "    <tr>\n",
       "      <th>3</th>\n",
       "      <td>got yesterday review point first impress tri w...</td>\n",
       "      <td>{'neg': 0.012, 'neu': 0.881, 'pos': 0.108, 'co...</td>\n",
       "      <td>1.0</td>\n",
       "    </tr>\n",
       "    <tr>\n",
       "      <th>4</th>\n",
       "      <td>ye amaz visual product well worth pay need tel...</td>\n",
       "      <td>{'neg': 0.093, 'neu': 0.795, 'pos': 0.113, 'co...</td>\n",
       "      <td>1.0</td>\n",
       "    </tr>\n",
       "    <tr>\n",
       "      <th>...</th>\n",
       "      <td>...</td>\n",
       "      <td>...</td>\n",
       "      <td>...</td>\n",
       "    </tr>\n",
       "    <tr>\n",
       "      <th>84969</th>\n",
       "      <td>great product decent price super easi use reco...</td>\n",
       "      <td>{'neg': 0.093, 'neu': 0.447, 'pos': 0.46, 'com...</td>\n",
       "      <td>1.0</td>\n",
       "    </tr>\n",
       "    <tr>\n",
       "      <th>84970</th>\n",
       "      <td>work great mom</td>\n",
       "      <td>{'neg': 0.0, 'neu': 0.328, 'pos': 0.672, 'comp...</td>\n",
       "      <td>1.0</td>\n",
       "    </tr>\n",
       "    <tr>\n",
       "      <th>84971</th>\n",
       "      <td>second unit bought first expens featur turn ac...</td>\n",
       "      <td>{'neg': 0.037, 'neu': 0.841, 'pos': 0.122, 'co...</td>\n",
       "      <td>1.0</td>\n",
       "    </tr>\n",
       "    <tr>\n",
       "      <th>84972</th>\n",
       "      <td>work great</td>\n",
       "      <td>{'neg': 0.0, 'neu': 0.196, 'pos': 0.804, 'comp...</td>\n",
       "      <td>1.0</td>\n",
       "    </tr>\n",
       "    <tr>\n",
       "      <th>84973</th>\n",
       "      <td>conveni use</td>\n",
       "      <td>{'neg': 0.0, 'neu': 1.0, 'pos': 0.0, 'compound...</td>\n",
       "      <td>0.0</td>\n",
       "    </tr>\n",
       "  </tbody>\n",
       "</table>\n",
       "<p>84974 rows × 3 columns</p>\n",
       "</div>"
      ],
      "text/plain": [
       "                                            comments_nlp  \\\n",
       "0      would rate number softwar issu bug experienc m...   \n",
       "1      would expect great pictur one worth price plea...   \n",
       "2      updat review mount breez took minut screw moun...   \n",
       "3      got yesterday review point first impress tri w...   \n",
       "4      ye amaz visual product well worth pay need tel...   \n",
       "...                                                  ...   \n",
       "84969  great product decent price super easi use reco...   \n",
       "84970                                     work great mom   \n",
       "84971  second unit bought first expens featur turn ac...   \n",
       "84972                                         work great   \n",
       "84973                                        conveni use   \n",
       "\n",
       "                                               sentiment  valence  \n",
       "0      {'neg': 0.045, 'neu': 0.79, 'pos': 0.165, 'com...      1.0  \n",
       "1      {'neg': 0.068, 'neu': 0.739, 'pos': 0.193, 'co...      1.0  \n",
       "2      {'neg': 0.058, 'neu': 0.794, 'pos': 0.148, 'co...      1.0  \n",
       "3      {'neg': 0.012, 'neu': 0.881, 'pos': 0.108, 'co...      1.0  \n",
       "4      {'neg': 0.093, 'neu': 0.795, 'pos': 0.113, 'co...      1.0  \n",
       "...                                                  ...      ...  \n",
       "84969  {'neg': 0.093, 'neu': 0.447, 'pos': 0.46, 'com...      1.0  \n",
       "84970  {'neg': 0.0, 'neu': 0.328, 'pos': 0.672, 'comp...      1.0  \n",
       "84971  {'neg': 0.037, 'neu': 0.841, 'pos': 0.122, 'co...      1.0  \n",
       "84972  {'neg': 0.0, 'neu': 0.196, 'pos': 0.804, 'comp...      1.0  \n",
       "84973  {'neg': 0.0, 'neu': 1.0, 'pos': 0.0, 'compound...      0.0  \n",
       "\n",
       "[84974 rows x 3 columns]"
      ]
     },
     "execution_count": 18,
     "metadata": {},
     "output_type": "execute_result"
    }
   ],
   "source": [
    "df[['comments_nlp', 'sentiment', 'valence']]"
   ]
  },
  {
   "cell_type": "markdown",
   "metadata": {},
   "source": [
    "### New Regression Modeling\n",
    "cs_score = user_rating + valence + price"
   ]
  },
  {
   "cell_type": "code",
   "execution_count": 89,
   "metadata": {},
   "outputs": [
    {
     "data": {
      "text/html": [
       "<div>\n",
       "<style scoped>\n",
       "    .dataframe tbody tr th:only-of-type {\n",
       "        vertical-align: middle;\n",
       "    }\n",
       "\n",
       "    .dataframe tbody tr th {\n",
       "        vertical-align: top;\n",
       "    }\n",
       "\n",
       "    .dataframe thead th {\n",
       "        text-align: right;\n",
       "    }\n",
       "</style>\n",
       "<table border=\"1\" class=\"dataframe\">\n",
       "  <thead>\n",
       "    <tr style=\"text-align: right;\">\n",
       "      <th></th>\n",
       "      <th>ratings</th>\n",
       "      <th>price</th>\n",
       "      <th>neutral</th>\n",
       "      <th>positive</th>\n",
       "    </tr>\n",
       "  </thead>\n",
       "  <tbody>\n",
       "    <tr>\n",
       "      <th>0</th>\n",
       "      <td>2.0</td>\n",
       "      <td>2164.495</td>\n",
       "      <td>0</td>\n",
       "      <td>1</td>\n",
       "    </tr>\n",
       "    <tr>\n",
       "      <th>1</th>\n",
       "      <td>4.0</td>\n",
       "      <td>2164.495</td>\n",
       "      <td>0</td>\n",
       "      <td>1</td>\n",
       "    </tr>\n",
       "    <tr>\n",
       "      <th>2</th>\n",
       "      <td>5.0</td>\n",
       "      <td>2164.495</td>\n",
       "      <td>0</td>\n",
       "      <td>1</td>\n",
       "    </tr>\n",
       "    <tr>\n",
       "      <th>3</th>\n",
       "      <td>5.0</td>\n",
       "      <td>2164.495</td>\n",
       "      <td>0</td>\n",
       "      <td>1</td>\n",
       "    </tr>\n",
       "    <tr>\n",
       "      <th>4</th>\n",
       "      <td>1.0</td>\n",
       "      <td>2164.495</td>\n",
       "      <td>0</td>\n",
       "      <td>1</td>\n",
       "    </tr>\n",
       "    <tr>\n",
       "      <th>...</th>\n",
       "      <td>...</td>\n",
       "      <td>...</td>\n",
       "      <td>...</td>\n",
       "      <td>...</td>\n",
       "    </tr>\n",
       "    <tr>\n",
       "      <th>84969</th>\n",
       "      <td>5.0</td>\n",
       "      <td>34.415</td>\n",
       "      <td>0</td>\n",
       "      <td>1</td>\n",
       "    </tr>\n",
       "    <tr>\n",
       "      <th>84970</th>\n",
       "      <td>5.0</td>\n",
       "      <td>34.415</td>\n",
       "      <td>0</td>\n",
       "      <td>1</td>\n",
       "    </tr>\n",
       "    <tr>\n",
       "      <th>84971</th>\n",
       "      <td>5.0</td>\n",
       "      <td>34.415</td>\n",
       "      <td>0</td>\n",
       "      <td>1</td>\n",
       "    </tr>\n",
       "    <tr>\n",
       "      <th>84972</th>\n",
       "      <td>5.0</td>\n",
       "      <td>34.415</td>\n",
       "      <td>0</td>\n",
       "      <td>1</td>\n",
       "    </tr>\n",
       "    <tr>\n",
       "      <th>84973</th>\n",
       "      <td>5.0</td>\n",
       "      <td>34.415</td>\n",
       "      <td>1</td>\n",
       "      <td>0</td>\n",
       "    </tr>\n",
       "  </tbody>\n",
       "</table>\n",
       "<p>84974 rows × 4 columns</p>\n",
       "</div>"
      ],
      "text/plain": [
       "       ratings     price  neutral  positive\n",
       "0          2.0  2164.495        0         1\n",
       "1          4.0  2164.495        0         1\n",
       "2          5.0  2164.495        0         1\n",
       "3          5.0  2164.495        0         1\n",
       "4          1.0  2164.495        0         1\n",
       "...        ...       ...      ...       ...\n",
       "84969      5.0    34.415        0         1\n",
       "84970      5.0    34.415        0         1\n",
       "84971      5.0    34.415        0         1\n",
       "84972      5.0    34.415        0         1\n",
       "84973      5.0    34.415        1         0\n",
       "\n",
       "[84974 rows x 4 columns]"
      ]
     },
     "execution_count": 89,
     "metadata": {},
     "output_type": "execute_result"
    }
   ],
   "source": [
    "new_df = pd.concat([df[['ratings', 'price']], pd.get_dummies(df['valence'], drop_first=True)], axis=1)\n",
    "new_df.rename(columns={0.0: \"neutral\", 1.0: \"positive\"}, inplace=True)\n",
    "new_df"
   ]
  },
  {
   "cell_type": "code",
   "execution_count": 95,
   "metadata": {},
   "outputs": [],
   "source": [
    "new_df['ratings'] = min_max_scaler(new_df['ratings'])\n",
    "new_df['price'] = min_max_scaler(new_df['price'])\n",
    "new_df['cs_score'] = min_max_scaler(df['cs_score'])"
   ]
  },
  {
   "cell_type": "code",
   "execution_count": 96,
   "metadata": {},
   "outputs": [
    {
     "name": "stdout",
     "output_type": "stream",
     "text": [
      "                            OLS Regression Results                            \n",
      "==============================================================================\n",
      "Dep. Variable:               cs_score   R-squared:                       0.044\n",
      "Model:                            OLS   Adj. R-squared:                  0.043\n",
      "Method:                 Least Squares   F-statistic:                     966.5\n",
      "Date:                Wed, 26 May 2021   Prob (F-statistic):               0.00\n",
      "Time:                        17:58:08   Log-Likelihood:                 16709.\n",
      "No. Observations:               84974   AIC:                        -3.341e+04\n",
      "Df Residuals:                   84969   BIC:                        -3.336e+04\n",
      "Df Model:                           4                                         \n",
      "Covariance Type:            nonrobust                                         \n",
      "==============================================================================\n",
      "                 coef    std err          t      P>|t|      [0.025      0.975]\n",
      "------------------------------------------------------------------------------\n",
      "const          0.6208      0.002    288.102      0.000       0.617       0.625\n",
      "ratings       -0.0219      0.002    -10.665      0.000      -0.026      -0.018\n",
      "neutral        0.0234      0.003      8.107      0.000       0.018       0.029\n",
      "positive       0.0087      0.002      3.799      0.000       0.004       0.013\n",
      "price          0.3422      0.006     61.175      0.000       0.331       0.353\n",
      "==============================================================================\n",
      "Omnibus:                     4392.141   Durbin-Watson:                   0.005\n",
      "Prob(Omnibus):                  0.000   Jarque-Bera (JB):             2042.577\n",
      "Skew:                          -0.175   Prob(JB):                         0.00\n",
      "Kurtosis:                       2.326   Cond. No.                         12.5\n",
      "==============================================================================\n",
      "\n",
      "Warnings:\n",
      "[1] Standard Errors assume that the covariance matrix of the errors is correctly specified.\n"
     ]
    }
   ],
   "source": [
    "X = new_df[['ratings', 'neutral', 'positive', 'price']]\n",
    "Y = new_df['cs_score']\n",
    "\n",
    "\n",
    "X = sm.add_constant(X)\n",
    "\n",
    "model = sm.OLS(Y, X).fit()\n",
    "predictions = model.predict(X)\n",
    "\n",
    "print_model = model.summary()\n",
    "print(print_model)"
   ]
  },
  {
   "cell_type": "markdown",
   "metadata": {},
   "source": [
    "### Visualization"
   ]
  },
  {
   "cell_type": "code",
   "execution_count": 21,
   "metadata": {},
   "outputs": [
    {
     "data": {
      "text/plain": [
       "array([ 1., -1.,  0., nan])"
      ]
     },
     "execution_count": 21,
     "metadata": {},
     "output_type": "execute_result"
    }
   ],
   "source": [
    "df['valence'].unique()"
   ]
  },
  {
   "cell_type": "code",
   "execution_count": 104,
   "metadata": {},
   "outputs": [
    {
     "data": {
      "text/plain": [
       "Ttest_indResult(statistic=127.58237796394509, pvalue=0.0)"
      ]
     },
     "execution_count": 104,
     "metadata": {},
     "output_type": "execute_result"
    }
   ],
   "source": [
    "from scipy.stats import ttest_ind\n",
    "\n",
    "cat1 = df[df['valence']==1]\n",
    "cat2 = df[df['valence']==-1]\n",
    "\n",
    "ttest_ind(cat1['ratings'], cat2['ratings'])"
   ]
  },
  {
   "cell_type": "code",
   "execution_count": 22,
   "metadata": {},
   "outputs": [],
   "source": [
    "data = [df[df['valence']==1]['cs_score'],\n",
    "       df[df['valence']==0]['cs_score'],\n",
    "       df[df['valence']==-1]['cs_score']]"
   ]
  },
  {
   "cell_type": "code",
   "execution_count": 97,
   "metadata": {},
   "outputs": [],
   "source": [
    "data2 = [df[df['valence']==1]['ratings'],\n",
    "       df[df['valence']==0]['ratings'],\n",
    "       df[df['valence']==-1]['ratings']]"
   ]
  },
  {
   "cell_type": "code",
   "execution_count": 24,
   "metadata": {},
   "outputs": [
    {
     "data": {
      "image/png": "[encoded data removed]",
      "text/plain": [
       "<Figure size 432x288 with 1 Axes>"
      ]
     },
     "metadata": {
      "needs_background": "light"
     },
     "output_type": "display_data"
    }
   ],
   "source": [
    "plt.boxplot(data, labels=['pos', 'neu', 'neg'], showmeans=True)\n",
    "plt.show()"
   ]
  },
  {
   "cell_type": "code",
   "execution_count": 98,
   "metadata": {},
   "outputs": [
    {
     "data": {
      "image/png": "[encoded data removed]",
      "text/plain": [
       "<Figure size 432x288 with 1 Axes>"
      ]
     },
     "metadata": {
      "needs_background": "light"
     },
     "output_type": "display_data"
    }
   ],
   "source": [
    "plt.boxplot(data2, labels=['pos', 'neu', 'neg'], showmeans=True)\n",
    "plt.title(\"Valence vs User Ratings\")\n",
    "plt.savefig(\"valence\")"
   ]
  }
 ],
 "metadata": {
  "kernelspec": {
   "display_name": "Python 3",
   "language": "python",
   "name": "python3"
  },
  "language_info": {
   "codemirror_mode": {
    "name": "ipython",
    "version": 3
   },
   "file_extension": ".py",
   "mimetype": "text/x-python",
   "name": "python",
   "nbconvert_exporter": "python",
   "pygments_lexer": "ipython3",
   "version": "3.8.3"
  }
 },
 "nbformat": 4,
 "nbformat_minor": 4
}
